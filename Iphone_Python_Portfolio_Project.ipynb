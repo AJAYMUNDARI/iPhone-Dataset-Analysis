{
 "cells": [
  {
   "cell_type": "code",
   "execution_count": 9,
   "id": "ed79af64",
   "metadata": {},
   "outputs": [
    {
     "data": {
      "text/html": [
       "<div>\n",
       "<style scoped>\n",
       "    .dataframe tbody tr th:only-of-type {\n",
       "        vertical-align: middle;\n",
       "    }\n",
       "\n",
       "    .dataframe tbody tr th {\n",
       "        vertical-align: top;\n",
       "    }\n",
       "\n",
       "    .dataframe thead th {\n",
       "        text-align: right;\n",
       "    }\n",
       "</style>\n",
       "<table border=\"1\" class=\"dataframe\">\n",
       "  <thead>\n",
       "    <tr style=\"text-align: right;\">\n",
       "      <th></th>\n",
       "      <th>Product Name</th>\n",
       "      <th>Product URL</th>\n",
       "      <th>Brand</th>\n",
       "      <th>Sale Price</th>\n",
       "      <th>Mrp</th>\n",
       "      <th>Number Of Ratings</th>\n",
       "      <th>Number Of Reviews</th>\n",
       "      <th>Upc</th>\n",
       "      <th>Star Rating</th>\n",
       "      <th>Ram</th>\n",
       "    </tr>\n",
       "  </thead>\n",
       "  <tbody>\n",
       "    <tr>\n",
       "      <th>0</th>\n",
       "      <td>APPLE iPhone 8 Plus (Gold, 64 GB)</td>\n",
       "      <td>https://www.flipkart.com/apple-iphone-8-plus-g...</td>\n",
       "      <td>Apple</td>\n",
       "      <td>49900</td>\n",
       "      <td>49900</td>\n",
       "      <td>3431</td>\n",
       "      <td>356</td>\n",
       "      <td>MOBEXRGV7EHHTGUH</td>\n",
       "      <td>4.6</td>\n",
       "      <td>2 GB</td>\n",
       "    </tr>\n",
       "    <tr>\n",
       "      <th>1</th>\n",
       "      <td>APPLE iPhone 8 Plus (Space Grey, 256 GB)</td>\n",
       "      <td>https://www.flipkart.com/apple-iphone-8-plus-s...</td>\n",
       "      <td>Apple</td>\n",
       "      <td>84900</td>\n",
       "      <td>84900</td>\n",
       "      <td>3431</td>\n",
       "      <td>356</td>\n",
       "      <td>MOBEXRGVAC6TJT4F</td>\n",
       "      <td>4.6</td>\n",
       "      <td>2 GB</td>\n",
       "    </tr>\n",
       "  </tbody>\n",
       "</table>\n",
       "</div>"
      ],
      "text/plain": [
       "                               Product Name   \n",
       "0         APPLE iPhone 8 Plus (Gold, 64 GB)  \\\n",
       "1  APPLE iPhone 8 Plus (Space Grey, 256 GB)   \n",
       "\n",
       "                                         Product URL  Brand  Sale Price   \n",
       "0  https://www.flipkart.com/apple-iphone-8-plus-g...  Apple       49900  \\\n",
       "1  https://www.flipkart.com/apple-iphone-8-plus-s...  Apple       84900   \n",
       "\n",
       "     Mrp  Number Of Ratings  Number Of Reviews               Upc  Star Rating   \n",
       "0  49900               3431                356  MOBEXRGV7EHHTGUH          4.6  \\\n",
       "1  84900               3431                356  MOBEXRGVAC6TJT4F          4.6   \n",
       "\n",
       "    Ram  \n",
       "0  2 GB  \n",
       "1  2 GB  "
      ]
     },
     "execution_count": 9,
     "metadata": {},
     "output_type": "execute_result"
    }
   ],
   "source": [
    "import pandas as pd\n",
    "df = pd.read_csv('iphone.csv')\n",
    "df.head(2)"
   ]
  },
  {
   "cell_type": "markdown",
   "id": "5883f243",
   "metadata": {},
   "source": [
    "#### 1 - The column names have spaces . rename the column names to have underscore '_' instead of space"
   ]
  },
  {
   "cell_type": "code",
   "execution_count": 11,
   "id": "089396d4",
   "metadata": {},
   "outputs": [
    {
     "data": {
      "text/html": [
       "<div>\n",
       "<style scoped>\n",
       "    .dataframe tbody tr th:only-of-type {\n",
       "        vertical-align: middle;\n",
       "    }\n",
       "\n",
       "    .dataframe tbody tr th {\n",
       "        vertical-align: top;\n",
       "    }\n",
       "\n",
       "    .dataframe thead th {\n",
       "        text-align: right;\n",
       "    }\n",
       "</style>\n",
       "<table border=\"1\" class=\"dataframe\">\n",
       "  <thead>\n",
       "    <tr style=\"text-align: right;\">\n",
       "      <th></th>\n",
       "      <th>Product_Name</th>\n",
       "      <th>Product_URL</th>\n",
       "      <th>Brand</th>\n",
       "      <th>Sale_Price</th>\n",
       "      <th>Mrp</th>\n",
       "      <th>Number_Of_Ratings</th>\n",
       "      <th>Number_Of_Reviews</th>\n",
       "      <th>Upc</th>\n",
       "      <th>Star_Rating</th>\n",
       "      <th>Ram</th>\n",
       "    </tr>\n",
       "  </thead>\n",
       "  <tbody>\n",
       "    <tr>\n",
       "      <th>0</th>\n",
       "      <td>APPLE iPhone 8 Plus (Gold, 64 GB)</td>\n",
       "      <td>https://www.flipkart.com/apple-iphone-8-plus-g...</td>\n",
       "      <td>Apple</td>\n",
       "      <td>49900</td>\n",
       "      <td>49900</td>\n",
       "      <td>3431</td>\n",
       "      <td>356</td>\n",
       "      <td>MOBEXRGV7EHHTGUH</td>\n",
       "      <td>4.6</td>\n",
       "      <td>2 GB</td>\n",
       "    </tr>\n",
       "    <tr>\n",
       "      <th>1</th>\n",
       "      <td>APPLE iPhone 8 Plus (Space Grey, 256 GB)</td>\n",
       "      <td>https://www.flipkart.com/apple-iphone-8-plus-s...</td>\n",
       "      <td>Apple</td>\n",
       "      <td>84900</td>\n",
       "      <td>84900</td>\n",
       "      <td>3431</td>\n",
       "      <td>356</td>\n",
       "      <td>MOBEXRGVAC6TJT4F</td>\n",
       "      <td>4.6</td>\n",
       "      <td>2 GB</td>\n",
       "    </tr>\n",
       "  </tbody>\n",
       "</table>\n",
       "</div>"
      ],
      "text/plain": [
       "                               Product_Name   \n",
       "0         APPLE iPhone 8 Plus (Gold, 64 GB)  \\\n",
       "1  APPLE iPhone 8 Plus (Space Grey, 256 GB)   \n",
       "\n",
       "                                         Product_URL  Brand  Sale_Price   \n",
       "0  https://www.flipkart.com/apple-iphone-8-plus-g...  Apple       49900  \\\n",
       "1  https://www.flipkart.com/apple-iphone-8-plus-s...  Apple       84900   \n",
       "\n",
       "     Mrp  Number_Of_Ratings  Number_Of_Reviews               Upc  Star_Rating   \n",
       "0  49900               3431                356  MOBEXRGV7EHHTGUH          4.6  \\\n",
       "1  84900               3431                356  MOBEXRGVAC6TJT4F          4.6   \n",
       "\n",
       "    Ram  \n",
       "0  2 GB  \n",
       "1  2 GB  "
      ]
     },
     "execution_count": 11,
     "metadata": {},
     "output_type": "execute_result"
    }
   ],
   "source": [
    "df.columns = df.columns.str.replace(' ', '_')\n",
    "df.head(2)"
   ]
  },
  {
   "cell_type": "markdown",
   "id": "a3ee5ace",
   "metadata": {},
   "source": [
    "#### 2- start rating for some of the models is missing in the dataset. fill those missing values with the average rating all the models."
   ]
  },
  {
   "cell_type": "code",
   "execution_count": 48,
   "id": "2bcb9d7d",
   "metadata": {},
   "outputs": [
    {
     "data": {
      "text/html": [
       "<div>\n",
       "<style scoped>\n",
       "    .dataframe tbody tr th:only-of-type {\n",
       "        vertical-align: middle;\n",
       "    }\n",
       "\n",
       "    .dataframe tbody tr th {\n",
       "        vertical-align: top;\n",
       "    }\n",
       "\n",
       "    .dataframe thead th {\n",
       "        text-align: right;\n",
       "    }\n",
       "</style>\n",
       "<table border=\"1\" class=\"dataframe\">\n",
       "  <thead>\n",
       "    <tr style=\"text-align: right;\">\n",
       "      <th></th>\n",
       "      <th>Product_Name</th>\n",
       "      <th>Product_URL</th>\n",
       "      <th>Brand</th>\n",
       "      <th>Sale_Price</th>\n",
       "      <th>Mrp</th>\n",
       "      <th>Number_Of_Ratings</th>\n",
       "      <th>Number_Of_Reviews</th>\n",
       "      <th>Upc</th>\n",
       "      <th>Star_Rating</th>\n",
       "      <th>Ram</th>\n",
       "      <th>Discount_Percentage</th>\n",
       "      <th>Color</th>\n",
       "      <th>iPhone Version</th>\n",
       "    </tr>\n",
       "  </thead>\n",
       "  <tbody>\n",
       "    <tr>\n",
       "      <th>0</th>\n",
       "      <td>APPLE iPhone 8 Plus (Gold, 64 GB)</td>\n",
       "      <td>https://www.flipkart.com/apple-iphone-8-plus-g...</td>\n",
       "      <td>Apple</td>\n",
       "      <td>49900</td>\n",
       "      <td>49900</td>\n",
       "      <td>3431</td>\n",
       "      <td>356</td>\n",
       "      <td>MOBEXRGV7EHHTGUH</td>\n",
       "      <td>4.6</td>\n",
       "      <td>2 GB</td>\n",
       "      <td>0.0</td>\n",
       "      <td>Gold</td>\n",
       "      <td>iPhone 8</td>\n",
       "    </tr>\n",
       "    <tr>\n",
       "      <th>1</th>\n",
       "      <td>APPLE iPhone 8 Plus (Space Grey, 256 GB)</td>\n",
       "      <td>https://www.flipkart.com/apple-iphone-8-plus-s...</td>\n",
       "      <td>Apple</td>\n",
       "      <td>84900</td>\n",
       "      <td>84900</td>\n",
       "      <td>3431</td>\n",
       "      <td>356</td>\n",
       "      <td>MOBEXRGVAC6TJT4F</td>\n",
       "      <td>4.6</td>\n",
       "      <td>2 GB</td>\n",
       "      <td>0.0</td>\n",
       "      <td>Space Grey</td>\n",
       "      <td>iPhone 8</td>\n",
       "    </tr>\n",
       "  </tbody>\n",
       "</table>\n",
       "</div>"
      ],
      "text/plain": [
       "                               Product_Name   \n",
       "0         APPLE iPhone 8 Plus (Gold, 64 GB)  \\\n",
       "1  APPLE iPhone 8 Plus (Space Grey, 256 GB)   \n",
       "\n",
       "                                         Product_URL  Brand  Sale_Price   \n",
       "0  https://www.flipkart.com/apple-iphone-8-plus-g...  Apple       49900  \\\n",
       "1  https://www.flipkart.com/apple-iphone-8-plus-s...  Apple       84900   \n",
       "\n",
       "     Mrp  Number_Of_Ratings  Number_Of_Reviews               Upc  Star_Rating   \n",
       "0  49900               3431                356  MOBEXRGV7EHHTGUH          4.6  \\\n",
       "1  84900               3431                356  MOBEXRGVAC6TJT4F          4.6   \n",
       "\n",
       "    Ram  Discount_Percentage       Color iPhone Version  \n",
       "0  2 GB                  0.0        Gold       iPhone 8  \n",
       "1  2 GB                  0.0  Space Grey       iPhone 8  "
      ]
     },
     "execution_count": 48,
     "metadata": {},
     "output_type": "execute_result"
    }
   ],
   "source": [
    "#2- start rating for some of the models is missing in the dataset. \n",
    "#fill those missing values with the average rating all the models.\n",
    "# Convert to numeric, setting errors='coerce' turns invalid strings into NaN\n",
    "df['Star_Rating'] = pd.to_numeric(df['Star_Rating'], errors='coerce')\n",
    "\n",
    "# Calculate average excluding NaNs\n",
    "Avg_Rating = df['Star_Rating'].mean()\n",
    "\n",
    "# Fill missing values with the average\n",
    "df['Star_Rating'].fillna(Avg_Rating, inplace=True)\n",
    "\n",
    "# Display the dataframe\n",
    "df.head(2)"
   ]
  },
  {
   "cell_type": "markdown",
   "id": "d71345bc",
   "metadata": {},
   "source": [
    "#### 3- Now instead of filling missing values with avg rating of full dataset , fill with avg rating based on RAM.  Example :  if rating for a 2 gb phone is missing then take average of all other 2 gb phones rating and fill that value. "
   ]
  },
  {
   "cell_type": "code",
   "execution_count": 18,
   "id": "a9466219",
   "metadata": {},
   "outputs": [
    {
     "name": "stdout",
     "output_type": "stream",
     "text": [
      "                                Product_Name   \n",
      "0          APPLE iPhone 8 Plus (Gold, 64 GB)  \\\n",
      "1   APPLE iPhone 8 Plus (Space Grey, 256 GB)   \n",
      "2       APPLE iPhone 8 Plus (Silver, 256 GB)   \n",
      "3            APPLE iPhone 8 (Silver, 256 GB)   \n",
      "4              APPLE iPhone 8 (Gold, 256 GB)   \n",
      "..                                       ...   \n",
      "57            APPLE iPhone SE (Black, 64 GB)   \n",
      "58           APPLE iPhone 11 (Purple, 64 GB)   \n",
      "59            APPLE iPhone 11 (White, 64 GB)   \n",
      "60            APPLE iPhone 11 (Black, 64 GB)   \n",
      "61              APPLE iPhone 11 (Red, 64 GB)   \n",
      "\n",
      "                                          Product_URL  Brand  Sale_Price   \n",
      "0   https://www.flipkart.com/apple-iphone-8-plus-g...  Apple       49900  \\\n",
      "1   https://www.flipkart.com/apple-iphone-8-plus-s...  Apple       84900   \n",
      "2   https://www.flipkart.com/apple-iphone-8-plus-s...  Apple       84900   \n",
      "3   https://www.flipkart.com/apple-iphone-8-silver...  Apple       77000   \n",
      "4   https://www.flipkart.com/apple-iphone-8-gold-2...  Apple       77000   \n",
      "..                                                ...    ...         ...   \n",
      "57  https://www.flipkart.com/apple-iphone-se-black...  Apple       29999   \n",
      "58  https://www.flipkart.com/apple-iphone-11-purpl...  Apple       46999   \n",
      "59  https://www.flipkart.com/apple-iphone-11-white...  Apple       46999   \n",
      "60  https://www.flipkart.com/apple-iphone-11-black...  Apple       46999   \n",
      "61  https://www.flipkart.com/apple-iphone-11-red-6...  Apple       46999   \n",
      "\n",
      "      Mrp  Number_Of_Ratings  Number_Of_Reviews               Upc   \n",
      "0   49900               3431                356  MOBEXRGV7EHHTGUH  \\\n",
      "1   84900               3431                356  MOBEXRGVAC6TJT4F   \n",
      "2   84900               3431                356  MOBEXRGVGETABXWZ   \n",
      "3   77000              11202                794  MOBEXRGVMZWUHCBA   \n",
      "4   77000              11202                794  MOBEXRGVPK7PFEJZ   \n",
      "..    ...                ...                ...               ...   \n",
      "57  39900              95909               8161  MOBFWQ6BR3MK7AUG   \n",
      "58  54900              43470               3331  MOBFWQ6BTFFJKGKE   \n",
      "59  54900              43470               3331  MOBFWQ6BVWVEH3XE   \n",
      "60  54900              43470               3331  MOBFWQ6BXGJCEYNY   \n",
      "61  54900              43470               3331  MOBFWQ6BYYV3FCU7   \n",
      "\n",
      "    Star_Rating   Ram  \n",
      "0      4.600000  2 GB  \n",
      "1      4.600000  2 GB  \n",
      "2      4.600000  2 GB  \n",
      "3      4.576271  2 GB  \n",
      "4      4.500000  2 GB  \n",
      "..          ...   ...  \n",
      "57     4.500000  4 GB  \n",
      "58     4.600000  4 GB  \n",
      "59     4.600000  4 GB  \n",
      "60     4.600000  4 GB  \n",
      "61     4.600000  4 GB  \n",
      "\n",
      "[62 rows x 10 columns]\n"
     ]
    }
   ],
   "source": [
    "# Calculate the average rating for each RAM group\n",
    "average_ratings_by_ram = df.groupby('Ram')['Star_Rating'].mean().reset_index()\n",
    "\n",
    "# Rename the 'Star Rating' column to 'Average Rating' for clarity\n",
    "average_ratings_by_ram.rename(columns={'Star_Rating': 'Average Rating'}, inplace=True)\n",
    "\n",
    "# Perform a left join to fill missing ratings based on RAM\n",
    "df = df.merge(average_ratings_by_ram, on='Ram', how='left')\n",
    "\n",
    "# Fill missing ratings with the calculated average ratings\n",
    "df['Star_Rating'].fillna(df['Average Rating'], inplace=True)\n",
    "\n",
    "# Drop the 'Average Rating' column if not needed\n",
    "df.drop(columns=['Average Rating'], inplace=True)\n",
    "\n",
    "# Display the modified DataFrame\n",
    "print(df)"
   ]
  },
  {
   "cell_type": "markdown",
   "id": "6f3af4ec",
   "metadata": {},
   "source": [
    "#### 4- create a new column in the dataframe \"Discount_Percentage\" based on MRP and sale value"
   ]
  },
  {
   "cell_type": "code",
   "execution_count": 49,
   "id": "0ccc6f71",
   "metadata": {},
   "outputs": [
    {
     "data": {
      "text/plain": [
       "0      0.000000\n",
       "1      0.000000\n",
       "2      0.000000\n",
       "3      0.000000\n",
       "4      0.000000\n",
       "        ...    \n",
       "57    24.814536\n",
       "58    14.391621\n",
       "59    14.391621\n",
       "60    14.391621\n",
       "61    14.391621\n",
       "Name: Discount_Percentage, Length: 62, dtype: float64"
      ]
     },
     "execution_count": 49,
     "metadata": {},
     "output_type": "execute_result"
    }
   ],
   "source": [
    "df['Discount_Percentage'] = ((df['Mrp'] - df['Sale_Price']) / df['Mrp']) * 100\n",
    "df['Discount_Percentage']"
   ]
  },
  {
   "cell_type": "markdown",
   "id": "1f3c27b9",
   "metadata": {},
   "source": [
    "#### 5- which model has highest percent discount ?"
   ]
  },
  {
   "cell_type": "code",
   "execution_count": 50,
   "id": "ac493213",
   "metadata": {},
   "outputs": [
    {
     "data": {
      "text/plain": [
       "'APPLE iPhone 11 Pro (Midnight Green, 64 GB)'"
      ]
     },
     "execution_count": 50,
     "metadata": {},
     "output_type": "execute_result"
    }
   ],
   "source": [
    "sorted_df = df.sort_values(by='Discount_Percentage', ascending=False)\n",
    "\n",
    "# Get the model with the highest discount and its corresponding percentage\n",
    "model_with_highest_discount = sorted_df.iloc[0]['Product_Name']\n",
    "highest_discount_percentage = sorted_df.iloc[0]['Discount_Percentage']\n",
    "\n",
    "model_with_highest_discount\n",
    "#highest_discount_percentage"
   ]
  },
  {
   "cell_type": "markdown",
   "id": "654adbeb",
   "metadata": {},
   "source": [
    "#### 6- find total no of models  each space configuration (128 GB , 64 GB etc)"
   ]
  },
  {
   "cell_type": "code",
   "execution_count": 32,
   "id": "95cf9b17",
   "metadata": {},
   "outputs": [
    {
     "name": "stdout",
     "output_type": "stream",
     "text": [
      "Ram\n",
      "4 GB    29\n",
      "6 GB    19\n",
      "2 GB    13\n",
      "3 GB     1\n",
      "Name: count, dtype: int64\n"
     ]
    }
   ],
   "source": [
    "space_configuration_counts = df['Ram'].value_counts()\n",
    "\n",
    "# Rename the columns for clarity\n",
    "space_configuration_counts.columns = ['Space Configuration', 'Total Models']\n",
    "\n",
    "# Display the result\n",
    "print(space_configuration_counts)"
   ]
  },
  {
   "cell_type": "markdown",
   "id": "985adf1b",
   "metadata": {},
   "source": [
    "#### 7- find total number of models for each color "
   ]
  },
  {
   "cell_type": "code",
   "execution_count": 34,
   "id": "08dfedd6",
   "metadata": {},
   "outputs": [
    {
     "name": "stdout",
     "output_type": "stream",
     "text": [
      "             Color  Total Models\n",
      "0            Black            10\n",
      "1            White            10\n",
      "2           Silver             7\n",
      "3             Gold             6\n",
      "4       Space Grey             6\n",
      "5              Red             5\n",
      "6   Midnight Green             4\n",
      "7     Pacific Blue             4\n",
      "8         Graphite             4\n",
      "9             Blue             2\n",
      "10             RED             1\n",
      "11           Coral             1\n",
      "12           Green             1\n",
      "13          Purple             1\n"
     ]
    }
   ],
   "source": [
    "# Define a function to extract color based on a pattern\n",
    "\n",
    "def extract_color(product_name):\n",
    "    parts = product_name.split('(')     # Split the product name by '(' and ')' to get parts within parentheses\n",
    "    if len(parts) > 1:                  # Check if the second part contains a comma (,) to identify color\n",
    "        color_part = parts[1].strip()\n",
    "        if ',' in color_part:\n",
    "            color = color_part.split(',')[0].strip()\n",
    "            return color\n",
    "    return None\n",
    "\n",
    "# Apply the extract_color function to create a 'Color' column\n",
    "df['Color'] = df['Product_Name'].apply(extract_color)\n",
    "\n",
    "# Count the number of models for each color\n",
    "color_counts = df['Color'].value_counts().reset_index()\n",
    "\n",
    "# Rename the columns for clarity\n",
    "color_counts.columns = ['Color', 'Total Models']\n",
    "\n",
    "# Display the result\n",
    "print(color_counts)"
   ]
  },
  {
   "cell_type": "markdown",
   "id": "8b38e364",
   "metadata": {},
   "source": [
    "#### 8- find total number of models by iphone version : \n",
    "eg :- \n",
    "iphone 8:  9, \n",
    "iphone XR : 5"
   ]
  },
  {
   "cell_type": "code",
   "execution_count": 36,
   "id": "d791b20b",
   "metadata": {},
   "outputs": [
    {
     "name": "stdout",
     "output_type": "stream",
     "text": [
      "  iPhone Version  Total Models\n",
      "0      iPhone 12            26\n",
      "1      iPhone 11            16\n",
      "2       iPhone 8             8\n",
      "3      iPhone SE             6\n",
      "4      iPhone XR             5\n",
      "5      iPhone XS             1\n"
     ]
    }
   ],
   "source": [
    "# Define a function to extract iPhone version\n",
    "def extract_iphone_version(product_name):\n",
    "    parts = product_name.split('iPhone')        # Split the product name by 'iPhone' and get the part after 'iPhone'\n",
    "    if len(parts) > 1:\n",
    "        version = parts[1].strip().split(' ')[0]\n",
    "        return 'iPhone ' + version\n",
    "    return None\n",
    "\n",
    "# Apply the extract_iphone_version function to create an 'iPhone Version' column\n",
    "df['iPhone Version'] = df['Product_Name'].apply(extract_iphone_version)\n",
    "\n",
    "# Count the number of models for each iPhone version\n",
    "iphone_version_counts = df['iPhone Version'].value_counts().reset_index()\n",
    "\n",
    "# Rename the columns for clarity\n",
    "iphone_version_counts.columns = ['iPhone Version', 'Total Models']\n",
    "\n",
    "# Display the result\n",
    "print(iphone_version_counts)\n"
   ]
  },
  {
   "cell_type": "markdown",
   "id": "32b2f092",
   "metadata": {},
   "source": [
    "#### 9- list top 5 models having highest no of reviews "
   ]
  },
  {
   "cell_type": "code",
   "execution_count": 38,
   "id": "f6cfef1a",
   "metadata": {},
   "outputs": [
    {
     "name": "stdout",
     "output_type": "stream",
     "text": [
      "                       Product_Name   \n",
      "23  Apple iPhone SE (White, 256 GB)  \\\n",
      "53  APPLE iPhone SE (Black, 128 GB)   \n",
      "55    APPLE iPhone SE (Red, 128 GB)   \n",
      "57   APPLE iPhone SE (Black, 64 GB)   \n",
      "52   APPLE iPhone SE (White, 64 GB)   \n",
      "\n",
      "                                          Product_URL  Brand  Sale_Price   \n",
      "23  https://www.flipkart.com/apple-iphone-se-white...  Apple       44999  \\\n",
      "53  https://www.flipkart.com/apple-iphone-se-black...  Apple       34999   \n",
      "55  https://www.flipkart.com/apple-iphone-se-red-1...  Apple       34999   \n",
      "57  https://www.flipkart.com/apple-iphone-se-black...  Apple       29999   \n",
      "52  https://www.flipkart.com/apple-iphone-se-white...  Apple       29999   \n",
      "\n",
      "      Mrp  Number_Of_Ratings  Number_Of_Reviews               Upc   \n",
      "23  54900              95909               8161  MOBFRFXHPZCHAPEH  \\\n",
      "53  44900              95909               8161  MOBFWQ6BHUEVZPXD   \n",
      "55  44900              95909               8161  MOBFWQ6BJTVFKPEJ   \n",
      "57  39900              95909               8161  MOBFWQ6BR3MK7AUG   \n",
      "52  39900              95807               8154  MOBFWQ6BGWDVGF3E   \n",
      "\n",
      "    Star_Rating   Ram  Discount_Percentage  Color iPhone Version  \n",
      "23          4.5  2 GB            18.034608  White      iPhone SE  \n",
      "53          4.5  2 GB            22.051225  Black      iPhone SE  \n",
      "55          4.5  2 GB            22.051225    Red      iPhone SE  \n",
      "57          4.5  4 GB            24.814536  Black      iPhone SE  \n",
      "52          4.5  2 GB            24.814536  White      iPhone SE  \n"
     ]
    }
   ],
   "source": [
    "# Sort the DataFrame by 'Number Of Reviews' in descending order\n",
    "df_sorted = df.sort_values(by='Number_Of_Reviews', ascending=False)\n",
    "\n",
    "# Select the top 5 models with the highest number of reviews\n",
    "top_5_models = df_sorted.head(5)\n",
    "\n",
    "# Display the result\n",
    "print(top_5_models)"
   ]
  },
  {
   "cell_type": "markdown",
   "id": "2fd356e5",
   "metadata": {},
   "source": [
    "#### 10 - what is the price diffrence between highest price and lowest price iphone (based on mrp)"
   ]
  },
  {
   "cell_type": "code",
   "execution_count": 40,
   "id": "a112b66a",
   "metadata": {},
   "outputs": [
    {
     "data": {
      "text/plain": [
       "110000"
      ]
     },
     "execution_count": 40,
     "metadata": {},
     "output_type": "execute_result"
    }
   ],
   "source": [
    "# Find the highest and lowest MRP values\n",
    "highest_mrp = df['Mrp'].max()\n",
    "lowest_mrp = df['Mrp'].min()\n",
    "\n",
    "# Calculate the price difference\n",
    "price_difference = highest_mrp - lowest_mrp\n",
    "price_difference"
   ]
  },
  {
   "cell_type": "markdown",
   "id": "824feca9",
   "metadata": {},
   "source": [
    "#### 11 - find total no of reviews for iphone 11 and iphone 12 category . Output should have only 2 rows (for 11 and 12)."
   ]
  },
  {
   "cell_type": "code",
   "execution_count": 42,
   "id": "8b0a5cab",
   "metadata": {},
   "outputs": [
    {
     "data": {
      "text/html": [
       "<div>\n",
       "<style scoped>\n",
       "    .dataframe tbody tr th:only-of-type {\n",
       "        vertical-align: middle;\n",
       "    }\n",
       "\n",
       "    .dataframe tbody tr th {\n",
       "        vertical-align: top;\n",
       "    }\n",
       "\n",
       "    .dataframe thead th {\n",
       "        text-align: right;\n",
       "    }\n",
       "</style>\n",
       "<table border=\"1\" class=\"dataframe\">\n",
       "  <thead>\n",
       "    <tr style=\"text-align: right;\">\n",
       "      <th></th>\n",
       "      <th>iPhone Category</th>\n",
       "      <th>Total Reviews</th>\n",
       "    </tr>\n",
       "  </thead>\n",
       "  <tbody>\n",
       "    <tr>\n",
       "      <th>0</th>\n",
       "      <td>iPhone 11</td>\n",
       "      <td>25965</td>\n",
       "    </tr>\n",
       "    <tr>\n",
       "      <th>1</th>\n",
       "      <td>iPhone 12</td>\n",
       "      <td>2208</td>\n",
       "    </tr>\n",
       "  </tbody>\n",
       "</table>\n",
       "</div>"
      ],
      "text/plain": [
       "  iPhone Category  Total Reviews\n",
       "0       iPhone 11          25965\n",
       "1       iPhone 12           2208"
      ]
     },
     "execution_count": 42,
     "metadata": {},
     "output_type": "execute_result"
    }
   ],
   "source": [
    "# Filter the DataFrame for iPhone 11 and iPhone 12 categories\n",
    "iphone_11_reviews = df[df['Product_Name'].str.contains('iPhone 11', case=False)]\n",
    "iphone_12_reviews = df[df['Product_Name'].str.contains('iPhone 12', case=False)]\n",
    "\n",
    "# Calculate the total number of reviews for each category\n",
    "total_reviews_11 = iphone_11_reviews['Number_Of_Reviews'].sum()\n",
    "total_reviews_12 = iphone_12_reviews['Number_Of_Reviews'].sum()\n",
    "\n",
    "# Create a new DataFrame with the results\n",
    "result_df = pd.DataFrame({\n",
    "    'iPhone Category': ['iPhone 11', 'iPhone 12'],\n",
    "    'Total Reviews': [total_reviews_11, total_reviews_12]\n",
    "})\n",
    "\n",
    "result_df"
   ]
  },
  {
   "cell_type": "markdown",
   "id": "6e775e45",
   "metadata": {},
   "source": [
    "#### 12- which iphone has 3rd highest MRP"
   ]
  },
  {
   "cell_type": "code",
   "execution_count": 44,
   "id": "de67309c",
   "metadata": {},
   "outputs": [
    {
     "name": "stdout",
     "output_type": "stream",
     "text": [
      "Product_Name                APPLE iPhone 11 Pro (Midnight Green, 512 GB)\n",
      "Product_URL            https://www.flipkart.com/apple-iphone-11-pro-m...\n",
      "Brand                                                              Apple\n",
      "Sale_Price                                                        117900\n",
      "Mrp                                                               140300\n",
      "Number_Of_Ratings                                                   7088\n",
      "Number_Of_Reviews                                                    523\n",
      "Upc                                                     MOBFKCTSSJCWYGCC\n",
      "Star_Rating                                                          4.6\n",
      "Ram                                                                 4 GB\n",
      "Discount_Percentage                                            15.965788\n",
      "Color                                                     Midnight Green\n",
      "iPhone Version                                                 iPhone 11\n",
      "Name: 2, dtype: object\n"
     ]
    }
   ],
   "source": [
    "# Sort the DataFrame by 'Mrp' column in descending order and reset the index\n",
    "sorted_df = df.sort_values(by='Mrp', ascending=False).reset_index(drop=True)\n",
    "\n",
    "# Get the iPhone with the 3rd highest MRP\n",
    "third_highest_mrp_iphone = sorted_df.loc[2]\n",
    "\n",
    "# Print the details of the iPhone with the 3rd highest MRP\n",
    "print(third_highest_mrp_iphone)"
   ]
  },
  {
   "cell_type": "markdown",
   "id": "371a4276",
   "metadata": {},
   "source": [
    "#### 13- what is the average mrp of iphones which costs above 100,000"
   ]
  },
  {
   "cell_type": "code",
   "execution_count": 46,
   "id": "47eb72ad",
   "metadata": {},
   "outputs": [
    {
     "name": "stdout",
     "output_type": "stream",
     "text": [
      "130559.09090909091\n"
     ]
    }
   ],
   "source": [
    "# Filter the DataFrame to include only iPhones with MRP above 100,000\n",
    "high_mrp_iphones = df[df['Mrp'] > 100000]\n",
    "\n",
    "# Calculate the average MRP for the filtered iPhones\n",
    "average_mrp = high_mrp_iphones['Mrp'].mean()\n",
    "\n",
    "# Print the average MRP\n",
    "print(average_mrp)"
   ]
  },
  {
   "cell_type": "markdown",
   "id": "30c18315",
   "metadata": {},
   "source": [
    "#### 14- which iphone with 128 GB space has highest ratings to review ratio"
   ]
  },
  {
   "cell_type": "code",
   "execution_count": null,
   "id": "0a7fb95e",
   "metadata": {},
   "outputs": [],
   "source": [
    "# Filter the DataFrame to include only iPhones with 128 GB of space\n",
    "iphone_128gb = df[df['Ram'] == '128 GB']\n",
    "\n",
    "# Calculate the ratings-to-reviews ratio for each iPhone\n",
    "iphone_128gb['Ratings to Reviews Ratio'] = iphone_128gb['Number Of Ratings'] / iphone_128gb['Number Of Reviews']\n",
    "\n",
    "# Find the iPhone with the highest ratings-to-reviews ratio\n",
    "highest_ratio_iphone = iphone_128gb.loc[iphone_128gb['Ratings to Reviews Ratio'].idxmax()]"
   ]
  }
 ],
 "metadata": {
  "kernelspec": {
   "display_name": "Python 3 (ipykernel)",
   "language": "python",
   "name": "python3"
  },
  "language_info": {
   "codemirror_mode": {
    "name": "ipython",
    "version": 3
   },
   "file_extension": ".py",
   "mimetype": "text/x-python",
   "name": "python",
   "nbconvert_exporter": "python",
   "pygments_lexer": "ipython3",
   "version": "3.10.6"
  }
 },
 "nbformat": 4,
 "nbformat_minor": 5
}
